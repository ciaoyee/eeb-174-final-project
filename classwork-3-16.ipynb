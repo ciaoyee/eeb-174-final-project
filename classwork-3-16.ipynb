{
 "cells": [
  {
   "cell_type": "markdown",
   "metadata": {},
   "source": [
    "# Questions/Comments\n",
    "\n",
    "    1. Given that in the past the continents were in different positions, did you take into account how the coordinates for those locations will correlate with the current found locations and how ecotherm/endotherm/mesotherm relates to those?\n",
    "    Wow, really comprehensive information and figures though O_O\n",
    "    2. Is there any way to account for the error, when you are trying to correlate the ties to brain size and survivorship, in how all species go extinct? (cause big brains won't stop you from going extinct)\n",
    "    3. Was the bar graph exhibiting diversification or spescies richness? If it was species richness, why did so many go extinct in the following time period? Also how \n",
    "    4. I know she said that it may have been that bats are not easy to be preserved properly, which is why there were not many fossil occurrences, but is there any way that migration, climate change, or changing continent location may have affected that? (e.g maybe the concentration of fossils in certain areas was due to the climate being more favorable back then?)\n",
    "    5. What are factors that can affect diagnosis age?\n",
    "    6. Any ideas on how you would correlate the data between plantae and horses?\n",
    "    7. Given that extinction rate is higher than speciation rate, does that mean your species may reach complete extinction soon?\n",
    "    8. What other significance did you find when you analyzed the sub-family?\n",
    "    9. Are quetzals and their predecessors only able to survive in tropical areas? How did you get the phylogenetic tree from pbdb info?\n",
    "    10. Why did those two species concentrate in those areas? What factors affected that?\n",
    "    11. Cool that she was able to place legend on map and add a black background. That gap of modern questions and historical questions.\n",
    "    12. Knowing that the diversification drop is not due to human interference, do you have any idea on what it could be due to?\n",
    "    13. ANIMATION GOALSSSSSSSSS SO COOOOOOL\n",
    "    14. Do you have any idea on why families went extinct in that recent time?\n",
    "        \n",
    "   "
   ]
  },
  {
   "cell_type": "code",
   "execution_count": 1,
   "metadata": {
    "collapsed": true
   },
   "outputs": [],
   "source": [
    "#relationship b/w raw richness & changing species & extinction rates\n",
    "# see if I can change coordinates from fossil collection from modern times to coordinates that are from past times so\n",
    "# points from modern times can be placed onto maps from the past as continents have moved\n",
    "# measure concentration in comparison to changing climate \n",
    "# show movement correlating with climate change\n",
    "# ANIMATE"
   ]
  },
  {
   "cell_type": "code",
   "execution_count": null,
   "metadata": {
    "collapsed": true
   },
   "outputs": [],
   "source": []
  }
 ],
 "metadata": {
  "kernelspec": {
   "display_name": "Python 3",
   "language": "python",
   "name": "python3"
  },
  "language_info": {
   "codemirror_mode": {
    "name": "ipython",
    "version": 3
   },
   "file_extension": ".py",
   "mimetype": "text/x-python",
   "name": "python",
   "nbconvert_exporter": "python",
   "pygments_lexer": "ipython3",
   "version": "3.6.0"
  }
 },
 "nbformat": 4,
 "nbformat_minor": 2
}
